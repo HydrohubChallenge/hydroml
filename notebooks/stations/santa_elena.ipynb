{
 "cells": [
  {
   "cell_type": "code",
   "execution_count": 1,
   "metadata": {},
   "outputs": [],
   "source": [
    "import pandas as pd\n",
    "import iso8601"
   ]
  },
  {
   "cell_type": "code",
   "execution_count": 2,
   "metadata": {},
   "outputs": [
    {
     "name": "stdout",
     "output_type": "stream",
     "text": [
      "hawkesworth_bridge_precip.csv\t santa_elena_precip.csv\r\n",
      "hawkesworth_bridge_wtlv1.csv\t santa_elena_wtlv1.csv\r\n",
      "hawkesworth_bridge_wtlv_max.csv  santa_elena_wtlv_max.csv\r\n",
      "hawkesworth_bridge_wtlv_min.csv  santa_elena_wtlv_min.csv\r\n"
     ]
    }
   ],
   "source": [
    "! ls /data/stations"
   ]
  },
  {
   "cell_type": "code",
   "execution_count": 3,
   "metadata": {},
   "outputs": [],
   "source": [
    "df = pd.read_csv('/data/stations/santa_elena_wtlv1.csv')\n",
    "df['datetime'] = df.datetime.apply(iso8601.parse_date)\n",
    "df['updated_at'] = df.updated_at.apply(iso8601.parse_date)"
   ]
  },
  {
   "cell_type": "code",
   "execution_count": 4,
   "metadata": {},
   "outputs": [
    {
     "data": {
      "text/html": [
       "<div>\n",
       "<style scoped>\n",
       "    .dataframe tbody tr th:only-of-type {\n",
       "        vertical-align: middle;\n",
       "    }\n",
       "\n",
       "    .dataframe tbody tr th {\n",
       "        vertical-align: top;\n",
       "    }\n",
       "\n",
       "    .dataframe thead th {\n",
       "        text-align: right;\n",
       "    }\n",
       "</style>\n",
       "<table border=\"1\" class=\"dataframe\">\n",
       "  <thead>\n",
       "    <tr style=\"text-align: right;\">\n",
       "      <th></th>\n",
       "      <th>datetime</th>\n",
       "      <th>measured</th>\n",
       "      <th>station_id</th>\n",
       "      <th>variable_id</th>\n",
       "      <th>updated_at</th>\n",
       "    </tr>\n",
       "  </thead>\n",
       "  <tbody>\n",
       "    <tr>\n",
       "      <th>0</th>\n",
       "      <td>2020-06-26 19:35:00+00:00</td>\n",
       "      <td>1.491</td>\n",
       "      <td>192</td>\n",
       "      <td>4013</td>\n",
       "      <td>2020-06-26 20:10:29+00:00</td>\n",
       "    </tr>\n",
       "    <tr>\n",
       "      <th>1</th>\n",
       "      <td>2020-06-26 19:40:00+00:00</td>\n",
       "      <td>1.491</td>\n",
       "      <td>192</td>\n",
       "      <td>4013</td>\n",
       "      <td>2020-06-26 20:10:29+00:00</td>\n",
       "    </tr>\n",
       "    <tr>\n",
       "      <th>2</th>\n",
       "      <td>2020-06-26 19:45:00+00:00</td>\n",
       "      <td>1.490</td>\n",
       "      <td>192</td>\n",
       "      <td>4013</td>\n",
       "      <td>2020-06-26 20:10:29+00:00</td>\n",
       "    </tr>\n",
       "    <tr>\n",
       "      <th>3</th>\n",
       "      <td>2020-06-26 19:50:00+00:00</td>\n",
       "      <td>1.491</td>\n",
       "      <td>192</td>\n",
       "      <td>4013</td>\n",
       "      <td>2020-06-26 20:10:29+00:00</td>\n",
       "    </tr>\n",
       "    <tr>\n",
       "      <th>4</th>\n",
       "      <td>2020-06-26 19:55:00+00:00</td>\n",
       "      <td>1.490</td>\n",
       "      <td>192</td>\n",
       "      <td>4013</td>\n",
       "      <td>2020-06-26 20:10:29+00:00</td>\n",
       "    </tr>\n",
       "    <tr>\n",
       "      <th>...</th>\n",
       "      <td>...</td>\n",
       "      <td>...</td>\n",
       "      <td>...</td>\n",
       "      <td>...</td>\n",
       "      <td>...</td>\n",
       "    </tr>\n",
       "    <tr>\n",
       "      <th>37760</th>\n",
       "      <td>2020-11-04 23:25:00+00:00</td>\n",
       "      <td>7.835</td>\n",
       "      <td>192</td>\n",
       "      <td>4013</td>\n",
       "      <td>2020-11-04 23:34:04+00:00</td>\n",
       "    </tr>\n",
       "    <tr>\n",
       "      <th>37761</th>\n",
       "      <td>2020-11-04 23:30:00+00:00</td>\n",
       "      <td>7.841</td>\n",
       "      <td>192</td>\n",
       "      <td>4013</td>\n",
       "      <td>2020-11-04 23:34:04+00:00</td>\n",
       "    </tr>\n",
       "    <tr>\n",
       "      <th>37762</th>\n",
       "      <td>2020-11-04 23:35:00+00:00</td>\n",
       "      <td>7.853</td>\n",
       "      <td>192</td>\n",
       "      <td>4013</td>\n",
       "      <td>2020-11-04 23:48:01+00:00</td>\n",
       "    </tr>\n",
       "    <tr>\n",
       "      <th>37763</th>\n",
       "      <td>2020-11-04 23:40:00+00:00</td>\n",
       "      <td>7.860</td>\n",
       "      <td>192</td>\n",
       "      <td>4013</td>\n",
       "      <td>2020-11-04 23:48:01+00:00</td>\n",
       "    </tr>\n",
       "    <tr>\n",
       "      <th>37764</th>\n",
       "      <td>2020-11-04 23:45:00+00:00</td>\n",
       "      <td>7.867</td>\n",
       "      <td>192</td>\n",
       "      <td>4013</td>\n",
       "      <td>2020-11-04 23:48:01+00:00</td>\n",
       "    </tr>\n",
       "  </tbody>\n",
       "</table>\n",
       "<p>37765 rows × 5 columns</p>\n",
       "</div>"
      ],
      "text/plain": [
       "                       datetime  measured  station_id  variable_id  \\\n",
       "0     2020-06-26 19:35:00+00:00     1.491         192         4013   \n",
       "1     2020-06-26 19:40:00+00:00     1.491         192         4013   \n",
       "2     2020-06-26 19:45:00+00:00     1.490         192         4013   \n",
       "3     2020-06-26 19:50:00+00:00     1.491         192         4013   \n",
       "4     2020-06-26 19:55:00+00:00     1.490         192         4013   \n",
       "...                         ...       ...         ...          ...   \n",
       "37760 2020-11-04 23:25:00+00:00     7.835         192         4013   \n",
       "37761 2020-11-04 23:30:00+00:00     7.841         192         4013   \n",
       "37762 2020-11-04 23:35:00+00:00     7.853         192         4013   \n",
       "37763 2020-11-04 23:40:00+00:00     7.860         192         4013   \n",
       "37764 2020-11-04 23:45:00+00:00     7.867         192         4013   \n",
       "\n",
       "                     updated_at  \n",
       "0     2020-06-26 20:10:29+00:00  \n",
       "1     2020-06-26 20:10:29+00:00  \n",
       "2     2020-06-26 20:10:29+00:00  \n",
       "3     2020-06-26 20:10:29+00:00  \n",
       "4     2020-06-26 20:10:29+00:00  \n",
       "...                         ...  \n",
       "37760 2020-11-04 23:34:04+00:00  \n",
       "37761 2020-11-04 23:34:04+00:00  \n",
       "37762 2020-11-04 23:48:01+00:00  \n",
       "37763 2020-11-04 23:48:01+00:00  \n",
       "37764 2020-11-04 23:48:01+00:00  \n",
       "\n",
       "[37765 rows x 5 columns]"
      ]
     },
     "execution_count": 4,
     "metadata": {},
     "output_type": "execute_result"
    }
   ],
   "source": [
    "df"
   ]
  },
  {
   "cell_type": "code",
   "execution_count": 14,
   "metadata": {},
   "outputs": [
    {
     "data": {
      "text/plain": [
       "datetime        object\n",
       "measured       float64\n",
       "station_id       int64\n",
       "variable_id      int64\n",
       "updated_at      object\n",
       "dtype: object"
      ]
     },
     "execution_count": 14,
     "metadata": {},
     "output_type": "execute_result"
    }
   ],
   "source": [
    "df.dtypes"
   ]
  },
  {
   "cell_type": "code",
   "execution_count": 16,
   "metadata": {},
   "outputs": [
    {
     "ename": "AttributeError",
     "evalue": "'StringMethods' object has no attribute 'date'",
     "output_type": "error",
     "traceback": [
      "\u001b[0;31m---------------------------------------------------------------------------\u001b[0m",
      "\u001b[0;31mAttributeError\u001b[0m                            Traceback (most recent call last)",
      "\u001b[0;32m<ipython-input-16-989264a4812a>\u001b[0m in \u001b[0;36m<module>\u001b[0;34m\u001b[0m\n\u001b[0;32m----> 1\u001b[0;31m \u001b[0mdf\u001b[0m\u001b[0;34m.\u001b[0m\u001b[0mdatetime\u001b[0m\u001b[0;34m.\u001b[0m\u001b[0mstr\u001b[0m\u001b[0;34m.\u001b[0m\u001b[0mdate\u001b[0m\u001b[0;34m(\u001b[0m\u001b[0;34m)\u001b[0m\u001b[0;34m\u001b[0m\u001b[0;34m\u001b[0m\u001b[0m\n\u001b[0m",
      "\u001b[0;31mAttributeError\u001b[0m: 'StringMethods' object has no attribute 'date'"
     ]
    }
   ],
   "source": [
    "df.datetime.str.()"
   ]
  },
  {
   "cell_type": "code",
   "execution_count": null,
   "metadata": {},
   "outputs": [],
   "source": []
  }
 ],
 "metadata": {
  "kernelspec": {
   "display_name": "Python 3",
   "language": "python",
   "name": "python3"
  },
  "language_info": {
   "codemirror_mode": {
    "name": "ipython",
    "version": 3
   },
   "file_extension": ".py",
   "mimetype": "text/x-python",
   "name": "python",
   "nbconvert_exporter": "python",
   "pygments_lexer": "ipython3",
   "version": "3.8.6"
  }
 },
 "nbformat": 4,
 "nbformat_minor": 4
}
