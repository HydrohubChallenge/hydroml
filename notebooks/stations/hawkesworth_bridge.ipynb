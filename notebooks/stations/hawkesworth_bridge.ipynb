{
 "cells": [
  {
   "cell_type": "code",
   "execution_count": 4,
   "metadata": {},
   "outputs": [],
   "source": [
    "import pandas as pd\n",
    "import iso8601"
   ]
  },
  {
   "cell_type": "code",
   "execution_count": 5,
   "metadata": {},
   "outputs": [
    {
     "name": "stdout",
     "output_type": "stream",
     "text": [
      "hawkesworth_bridge_precip.csv\t santa_elena_precip.csv\r\n",
      "hawkesworth_bridge_wtlv1.csv\t santa_elena_wtlv1.csv\r\n",
      "hawkesworth_bridge_wtlv_max.csv  santa_elena_wtlv_max.csv\r\n",
      "hawkesworth_bridge_wtlv_min.csv  santa_elena_wtlv_min.csv\r\n"
     ]
    }
   ],
   "source": [
    "! ls /data/stations"
   ]
  },
  {
   "cell_type": "code",
   "execution_count": 7,
   "metadata": {},
   "outputs": [],
   "source": [
    "df = pd.read_csv('/data/stations/hawkesworth_bridge_wtlv1.csv')\n",
    "df['datetime'] = df.datetime.apply(iso8601.parse_date)\n",
    "df['updated_at'] = df.updated_at.apply(iso8601.parse_date)"
   ]
  },
  {
   "cell_type": "code",
   "execution_count": 8,
   "metadata": {},
   "outputs": [
    {
     "data": {
      "text/html": [
       "<div>\n",
       "<style scoped>\n",
       "    .dataframe tbody tr th:only-of-type {\n",
       "        vertical-align: middle;\n",
       "    }\n",
       "\n",
       "    .dataframe tbody tr th {\n",
       "        vertical-align: top;\n",
       "    }\n",
       "\n",
       "    .dataframe thead th {\n",
       "        text-align: right;\n",
       "    }\n",
       "</style>\n",
       "<table border=\"1\" class=\"dataframe\">\n",
       "  <thead>\n",
       "    <tr style=\"text-align: right;\">\n",
       "      <th></th>\n",
       "      <th>datetime</th>\n",
       "      <th>measured</th>\n",
       "      <th>station_id</th>\n",
       "      <th>variable_id</th>\n",
       "      <th>updated_at</th>\n",
       "    </tr>\n",
       "  </thead>\n",
       "  <tbody>\n",
       "    <tr>\n",
       "      <th>0</th>\n",
       "      <td>2020-06-24 23:10:00+00:00</td>\n",
       "      <td>1.767</td>\n",
       "      <td>191</td>\n",
       "      <td>4013</td>\n",
       "      <td>2020-06-25 18:23:14+00:00</td>\n",
       "    </tr>\n",
       "    <tr>\n",
       "      <th>1</th>\n",
       "      <td>2020-06-24 23:15:00+00:00</td>\n",
       "      <td>1.759</td>\n",
       "      <td>191</td>\n",
       "      <td>4013</td>\n",
       "      <td>2020-06-25 18:23:14+00:00</td>\n",
       "    </tr>\n",
       "    <tr>\n",
       "      <th>2</th>\n",
       "      <td>2020-06-24 23:20:00+00:00</td>\n",
       "      <td>1.766</td>\n",
       "      <td>191</td>\n",
       "      <td>4013</td>\n",
       "      <td>2020-06-25 18:23:14+00:00</td>\n",
       "    </tr>\n",
       "    <tr>\n",
       "      <th>3</th>\n",
       "      <td>2020-06-24 23:25:00+00:00</td>\n",
       "      <td>1.764</td>\n",
       "      <td>191</td>\n",
       "      <td>4013</td>\n",
       "      <td>2020-06-25 18:23:14+00:00</td>\n",
       "    </tr>\n",
       "    <tr>\n",
       "      <th>4</th>\n",
       "      <td>2020-06-24 23:30:00+00:00</td>\n",
       "      <td>1.765</td>\n",
       "      <td>191</td>\n",
       "      <td>4013</td>\n",
       "      <td>2020-06-25 18:23:14+00:00</td>\n",
       "    </tr>\n",
       "    <tr>\n",
       "      <th>...</th>\n",
       "      <td>...</td>\n",
       "      <td>...</td>\n",
       "      <td>...</td>\n",
       "      <td>...</td>\n",
       "      <td>...</td>\n",
       "    </tr>\n",
       "    <tr>\n",
       "      <th>38513</th>\n",
       "      <td>2020-11-05 19:55:00+00:00</td>\n",
       "      <td>8.710</td>\n",
       "      <td>191</td>\n",
       "      <td>4013</td>\n",
       "      <td>2020-11-05 20:02:56+00:00</td>\n",
       "    </tr>\n",
       "    <tr>\n",
       "      <th>38514</th>\n",
       "      <td>2020-11-05 20:00:00+00:00</td>\n",
       "      <td>8.730</td>\n",
       "      <td>191</td>\n",
       "      <td>4013</td>\n",
       "      <td>2020-11-05 20:02:56+00:00</td>\n",
       "    </tr>\n",
       "    <tr>\n",
       "      <th>38515</th>\n",
       "      <td>2020-11-05 20:05:00+00:00</td>\n",
       "      <td>8.720</td>\n",
       "      <td>191</td>\n",
       "      <td>4013</td>\n",
       "      <td>2020-11-05 20:17:03+00:00</td>\n",
       "    </tr>\n",
       "    <tr>\n",
       "      <th>38516</th>\n",
       "      <td>2020-11-05 20:10:00+00:00</td>\n",
       "      <td>8.730</td>\n",
       "      <td>191</td>\n",
       "      <td>4013</td>\n",
       "      <td>2020-11-05 20:17:03+00:00</td>\n",
       "    </tr>\n",
       "    <tr>\n",
       "      <th>38517</th>\n",
       "      <td>2020-11-05 20:15:00+00:00</td>\n",
       "      <td>8.730</td>\n",
       "      <td>191</td>\n",
       "      <td>4013</td>\n",
       "      <td>2020-11-05 20:17:03+00:00</td>\n",
       "    </tr>\n",
       "  </tbody>\n",
       "</table>\n",
       "<p>38518 rows × 5 columns</p>\n",
       "</div>"
      ],
      "text/plain": [
       "                       datetime  measured  station_id  variable_id  \\\n",
       "0     2020-06-24 23:10:00+00:00     1.767         191         4013   \n",
       "1     2020-06-24 23:15:00+00:00     1.759         191         4013   \n",
       "2     2020-06-24 23:20:00+00:00     1.766         191         4013   \n",
       "3     2020-06-24 23:25:00+00:00     1.764         191         4013   \n",
       "4     2020-06-24 23:30:00+00:00     1.765         191         4013   \n",
       "...                         ...       ...         ...          ...   \n",
       "38513 2020-11-05 19:55:00+00:00     8.710         191         4013   \n",
       "38514 2020-11-05 20:00:00+00:00     8.730         191         4013   \n",
       "38515 2020-11-05 20:05:00+00:00     8.720         191         4013   \n",
       "38516 2020-11-05 20:10:00+00:00     8.730         191         4013   \n",
       "38517 2020-11-05 20:15:00+00:00     8.730         191         4013   \n",
       "\n",
       "                     updated_at  \n",
       "0     2020-06-25 18:23:14+00:00  \n",
       "1     2020-06-25 18:23:14+00:00  \n",
       "2     2020-06-25 18:23:14+00:00  \n",
       "3     2020-06-25 18:23:14+00:00  \n",
       "4     2020-06-25 18:23:14+00:00  \n",
       "...                         ...  \n",
       "38513 2020-11-05 20:02:56+00:00  \n",
       "38514 2020-11-05 20:02:56+00:00  \n",
       "38515 2020-11-05 20:17:03+00:00  \n",
       "38516 2020-11-05 20:17:03+00:00  \n",
       "38517 2020-11-05 20:17:03+00:00  \n",
       "\n",
       "[38518 rows x 5 columns]"
      ]
     },
     "execution_count": 8,
     "metadata": {},
     "output_type": "execute_result"
    }
   ],
   "source": [
    "df"
   ]
  },
  {
   "cell_type": "code",
   "execution_count": 5,
   "metadata": {},
   "outputs": [
    {
     "data": {
      "text/plain": [
       "to_char         object\n",
       "measured       float64\n",
       "station_id       int64\n",
       "variable_id      int64\n",
       "to_char.1       object\n",
       "dtype: object"
      ]
     },
     "execution_count": 5,
     "metadata": {},
     "output_type": "execute_result"
    }
   ],
   "source": [
    "df.dtypes"
   ]
  },
  {
   "cell_type": "code",
   "execution_count": 6,
   "metadata": {},
   "outputs": [
    {
     "ename": "AttributeError",
     "evalue": "'DataFrame' object has no attribute 'datetime'",
     "output_type": "error",
     "traceback": [
      "\u001b[0;31m---------------------------------------------------------------------------\u001b[0m",
      "\u001b[0;31mAttributeError\u001b[0m                            Traceback (most recent call last)",
      "\u001b[0;32m<ipython-input-6-2497d05e166c>\u001b[0m in \u001b[0;36m<module>\u001b[0;34m\u001b[0m\n\u001b[0;32m----> 1\u001b[0;31m \u001b[0mdf\u001b[0m\u001b[0;34m.\u001b[0m\u001b[0mdatetime\u001b[0m\u001b[0;34m.\u001b[0m\u001b[0mdt\u001b[0m\u001b[0;34m.\u001b[0m\u001b[0mdate\u001b[0m\u001b[0;34m(\u001b[0m\u001b[0;34m)\u001b[0m\u001b[0;34m\u001b[0m\u001b[0;34m\u001b[0m\u001b[0m\n\u001b[0m",
      "\u001b[0;32m/opt/conda/lib/python3.8/site-packages/pandas/core/generic.py\u001b[0m in \u001b[0;36m__getattr__\u001b[0;34m(self, name)\u001b[0m\n\u001b[1;32m   5137\u001b[0m             \u001b[0;32mif\u001b[0m \u001b[0mself\u001b[0m\u001b[0;34m.\u001b[0m\u001b[0m_info_axis\u001b[0m\u001b[0;34m.\u001b[0m\u001b[0m_can_hold_identifiers_and_holds_name\u001b[0m\u001b[0;34m(\u001b[0m\u001b[0mname\u001b[0m\u001b[0;34m)\u001b[0m\u001b[0;34m:\u001b[0m\u001b[0;34m\u001b[0m\u001b[0;34m\u001b[0m\u001b[0m\n\u001b[1;32m   5138\u001b[0m                 \u001b[0;32mreturn\u001b[0m \u001b[0mself\u001b[0m\u001b[0;34m[\u001b[0m\u001b[0mname\u001b[0m\u001b[0;34m]\u001b[0m\u001b[0;34m\u001b[0m\u001b[0;34m\u001b[0m\u001b[0m\n\u001b[0;32m-> 5139\u001b[0;31m             \u001b[0;32mreturn\u001b[0m \u001b[0mobject\u001b[0m\u001b[0;34m.\u001b[0m\u001b[0m__getattribute__\u001b[0m\u001b[0;34m(\u001b[0m\u001b[0mself\u001b[0m\u001b[0;34m,\u001b[0m \u001b[0mname\u001b[0m\u001b[0;34m)\u001b[0m\u001b[0;34m\u001b[0m\u001b[0;34m\u001b[0m\u001b[0m\n\u001b[0m\u001b[1;32m   5140\u001b[0m \u001b[0;34m\u001b[0m\u001b[0m\n\u001b[1;32m   5141\u001b[0m     \u001b[0;32mdef\u001b[0m \u001b[0m__setattr__\u001b[0m\u001b[0;34m(\u001b[0m\u001b[0mself\u001b[0m\u001b[0;34m,\u001b[0m \u001b[0mname\u001b[0m\u001b[0;34m:\u001b[0m \u001b[0mstr\u001b[0m\u001b[0;34m,\u001b[0m \u001b[0mvalue\u001b[0m\u001b[0;34m)\u001b[0m \u001b[0;34m->\u001b[0m \u001b[0;32mNone\u001b[0m\u001b[0;34m:\u001b[0m\u001b[0;34m\u001b[0m\u001b[0;34m\u001b[0m\u001b[0m\n",
      "\u001b[0;31mAttributeError\u001b[0m: 'DataFrame' object has no attribute 'datetime'"
     ]
    }
   ],
   "source": [
    "df.datetime.dt.date()"
   ]
  },
  {
   "cell_type": "code",
   "execution_count": null,
   "metadata": {},
   "outputs": [],
   "source": []
  }
 ],
 "metadata": {
  "kernelspec": {
   "display_name": "Python 3",
   "language": "python",
   "name": "python3"
  },
  "language_info": {
   "codemirror_mode": {
    "name": "ipython",
    "version": 3
   },
   "file_extension": ".py",
   "mimetype": "text/x-python",
   "name": "python",
   "nbconvert_exporter": "python",
   "pygments_lexer": "ipython3",
   "version": "3.8.6"
  }
 },
 "nbformat": 4,
 "nbformat_minor": 4
}
